{
 "cells": [
  {
   "cell_type": "code",
   "execution_count": 1,
   "id": "agreed-antarctica",
   "metadata": {},
   "outputs": [],
   "source": [
    "# Importing various libraries\n",
    "\n",
    "import math\n",
    "import numpy as np\n",
    "from PIL import Image\n",
    "import scipy.io\n",
    "mat = scipy.io.loadmat('imageFile.mat')\n",
    "np.set_printoptions(precision=3, suppress=True)    # for compact output"
   ]
  },
  {
   "cell_type": "code",
   "execution_count": 2,
   "id": "incident-devices",
   "metadata": {},
   "outputs": [
    {
     "name": "stdout",
     "output_type": "stream",
     "text": [
      "\n",
      "\t\tg matrix\n",
      "\n",
      " [[207 244 107 173  70 111 180 244]\n",
      " [230 246 233 193  11  97 192  86]\n",
      " [ 32  40 202 189  24 195  70 149]\n",
      " [232 247 244 100 209 202 173  57]\n",
      " [161 244 167 167 177  47 167 191]\n",
      " [ 24 123   9  43  80 124  41  65]\n",
      " [ 71 204 216 180 242 113  30 129]\n",
      " [139  36 238   8   8 164 127 178]]\n"
     ]
    }
   ],
   "source": [
    "# Loading g matrix\n",
    "\n",
    "g = mat['g']\n",
    "N,N = g.shape\n",
    "print(\"\\n\\t\\tg matrix\\n\\n\",g)"
   ]
  },
  {
   "cell_type": "code",
   "execution_count": 3,
   "id": "focal-ontario",
   "metadata": {},
   "outputs": [
    {
     "name": "stdout",
     "output_type": "stream",
     "text": [
      "\n",
      "\tHermition of g matrix\n",
      "\n",
      " [[207. 230.  32. 232. 161.  24.  71. 139.]\n",
      " [244. 246.  40. 247. 244. 123. 204.  36.]\n",
      " [107. 233. 202. 244. 167.   9. 216. 238.]\n",
      " [173. 193. 189. 100. 167.  43. 180.   8.]\n",
      " [ 70.  11.  24. 209. 177.  80. 242.   8.]\n",
      " [111.  97. 195. 202.  47. 124. 113. 164.]\n",
      " [180. 192.  70. 173. 167.  41.  30. 127.]\n",
      " [244.  86. 149.  57. 191.  65. 129. 178.]]\n"
     ]
    }
   ],
   "source": [
    "# Construct the Hermitian of g matrix\n",
    "\n",
    "g_h = np.zeros((N,N))\n",
    "for i in range (0,N):\n",
    "    g_h[:,i]=g[i,:]\n",
    "\n",
    "print(\"\\n\\tHermition of g matrix\\n\\n\",g_h)"
   ]
  },
  {
   "cell_type": "code",
   "execution_count": 4,
   "id": "solved-sphere",
   "metadata": {},
   "outputs": [],
   "source": [
    "# Perform eigen-value decomposition"
   ]
  },
  {
   "cell_type": "code",
   "execution_count": 5,
   "id": "durable-equality",
   "metadata": {},
   "outputs": [],
   "source": [
    "# Calculating matrix (g * g_hermitian) i.e E\n",
    "\n",
    "E = np.dot(g,g_h)"
   ]
  },
  {
   "cell_type": "code",
   "execution_count": 6,
   "id": "round-cedar",
   "metadata": {},
   "outputs": [
    {
     "name": "stdout",
     "output_type": "stream",
     "text": [
      "\n",
      "\t\tEigen values\n",
      "\n",
      " [1367373.911   82768.139   66305.917   45917.807   26626.135   17617.098\n",
      "    1033.995    2048.998]\n",
      "\n",
      "\t\tEigenvectors\n",
      "\n",
      " [[ 0.408  0.045 -0.42  -0.472 -0.318 -0.179  0.543  0.069]\n",
      " [ 0.411 -0.093 -0.468  0.159  0.645 -0.084 -0.217  0.329]\n",
      " [ 0.271 -0.519  0.425 -0.351  0.325 -0.282  0.013 -0.41 ]\n",
      " [ 0.448  0.165  0.101  0.713 -0.125 -0.217  0.249 -0.36 ]\n",
      " [ 0.403  0.318 -0.115 -0.25  -0.113  0.442 -0.499 -0.451]\n",
      " [ 0.149  0.146  0.149 -0.078 -0.358 -0.655 -0.538  0.285]\n",
      " [ 0.36   0.342  0.614 -0.112  0.152  0.272  0.199  0.477]\n",
      " [ 0.277 -0.673  0.024  0.2   -0.445  0.369 -0.135  0.278]]\n"
     ]
    }
   ],
   "source": [
    "# To find the eigenvalues and eigenvectors of matrix E (g * g_hermitian)\n",
    "\n",
    "eigen_values_E, eigen_vectors_E = np.linalg.eig(E) \n",
    "print(\"\\n\\t\\tEigen values\\n\\n\",eigen_values_E)\n",
    "print(\"\\n\\t\\tEigenvectors\\n\\n\",eigen_vectors_E)"
   ]
  },
  {
   "cell_type": "code",
   "execution_count": 7,
   "id": "ecological-freeze",
   "metadata": {},
   "outputs": [
    {
     "name": "stdout",
     "output_type": "stream",
     "text": [
      "\n",
      "\t\t\tMatrix A\n",
      "\n",
      " [[ 0.408  0.045 -0.42  -0.472 -0.318 -0.179  0.543  0.069]\n",
      " [ 0.411 -0.093 -0.468  0.159  0.645 -0.084 -0.217  0.329]\n",
      " [ 0.271 -0.519  0.425 -0.351  0.325 -0.282  0.013 -0.41 ]\n",
      " [ 0.448  0.165  0.101  0.713 -0.125 -0.217  0.249 -0.36 ]\n",
      " [ 0.403  0.318 -0.115 -0.25  -0.113  0.442 -0.499 -0.451]\n",
      " [ 0.149  0.146  0.149 -0.078 -0.358 -0.655 -0.538  0.285]\n",
      " [ 0.36   0.342  0.614 -0.112  0.152  0.272  0.199  0.477]\n",
      " [ 0.277 -0.673  0.024  0.2   -0.445  0.369 -0.135  0.278]]\n"
     ]
    }
   ],
   "source": [
    "# Eigenvectors of matrix E (g * g_hermitian) are columns of matrix A\n",
    "\n",
    "A = eigen_vectors_E\n",
    "print(\"\\n\\t\\t\\tMatrix A\\n\\n\" , A)"
   ]
  },
  {
   "cell_type": "code",
   "execution_count": 8,
   "id": "industrial-tragedy",
   "metadata": {},
   "outputs": [],
   "source": [
    "# Calculating matrix (g_hermitian * g) i.e F\n",
    "\n",
    "F = np.dot(g_h,g)"
   ]
  },
  {
   "cell_type": "code",
   "execution_count": 9,
   "id": "velvet-status",
   "metadata": {},
   "outputs": [
    {
     "name": "stdout",
     "output_type": "stream",
     "text": [
      "\n",
      "\t\tEigen values\n",
      "\n",
      " [1367373.911   82768.139   66305.917   45917.807   26626.135   17617.098\n",
      "    1033.995    2048.998]\n",
      "\n",
      "\t\tEigenvectors\n",
      "\n",
      " [[ 0.363  0.017 -0.488  0.331 -0.086  0.079  0.712 -0.002]\n",
      " [ 0.446 -0.519 -0.23  -0.     0.04  -0.248 -0.342 -0.546]\n",
      " [ 0.441  0.394  0.299  0.33   0.345  0.497 -0.197 -0.217]\n",
      " [ 0.331 -0.083  0.098 -0.511  0.661 -0.185  0.239  0.29 ]\n",
      " [ 0.261 -0.589  0.533  0.156 -0.299  0.219  0.115  0.355]\n",
      " [ 0.301  0.385  0.379  0.174 -0.245 -0.723  0.067 -0.011]\n",
      " [ 0.315  0.117 -0.427  0.1   -0.109 -0.026 -0.511  0.649]\n",
      " [ 0.328  0.245 -0.01  -0.675 -0.522  0.282  0.039 -0.151]]\n"
     ]
    }
   ],
   "source": [
    "# To find the eigen values and eigen vectors of matrix F(g_hermitian * g)\n",
    "\n",
    "eigen_values_F, eigen_vectors_F = np.linalg.eig(F)\n",
    "print(\"\\n\\t\\tEigen values\\n\\n\",eigen_values_F)\n",
    "print(\"\\n\\t\\tEigenvectors\\n\\n\",eigen_vectors_F)"
   ]
  },
  {
   "cell_type": "code",
   "execution_count": 10,
   "id": "narrative-williams",
   "metadata": {},
   "outputs": [
    {
     "name": "stdout",
     "output_type": "stream",
     "text": [
      "\n",
      "\t\t\tMatrix B\n",
      "\n",
      " [[ 0.363  0.017 -0.488  0.331 -0.086  0.079  0.712 -0.002]\n",
      " [ 0.446 -0.519 -0.23  -0.     0.04  -0.248 -0.342 -0.546]\n",
      " [ 0.441  0.394  0.299  0.33   0.345  0.497 -0.197 -0.217]\n",
      " [ 0.331 -0.083  0.098 -0.511  0.661 -0.185  0.239  0.29 ]\n",
      " [ 0.261 -0.589  0.533  0.156 -0.299  0.219  0.115  0.355]\n",
      " [ 0.301  0.385  0.379  0.174 -0.245 -0.723  0.067 -0.011]\n",
      " [ 0.315  0.117 -0.427  0.1   -0.109 -0.026 -0.511  0.649]\n",
      " [ 0.328  0.245 -0.01  -0.675 -0.522  0.282  0.039 -0.151]]\n"
     ]
    }
   ],
   "source": [
    "# Eigenvectors of matrix f (g_hermitian * g) are columns of matrix B\n",
    "\n",
    "B = eigen_vectors_F\n",
    "print(\"\\n\\t\\t\\tMatrix B\\n\\n\" , B)"
   ]
  },
  {
   "cell_type": "code",
   "execution_count": 11,
   "id": "quick-greene",
   "metadata": {},
   "outputs": [
    {
     "name": "stdout",
     "output_type": "stream",
     "text": [
      "\n",
      "\t\tHermition of B matrix\n",
      "\n",
      " [[ 0.363  0.446  0.441  0.331  0.261  0.301  0.315  0.328]\n",
      " [ 0.017 -0.519  0.394 -0.083 -0.589  0.385  0.117  0.245]\n",
      " [-0.488 -0.23   0.299  0.098  0.533  0.379 -0.427 -0.01 ]\n",
      " [ 0.331 -0.     0.33  -0.511  0.156  0.174  0.1   -0.675]\n",
      " [-0.086  0.04   0.345  0.661 -0.299 -0.245 -0.109 -0.522]\n",
      " [ 0.079 -0.248  0.497 -0.185  0.219 -0.723 -0.026  0.282]\n",
      " [ 0.712 -0.342 -0.197  0.239  0.115  0.067 -0.511  0.039]\n",
      " [-0.002 -0.546 -0.217  0.29   0.355 -0.011  0.649 -0.151]]\n"
     ]
    }
   ],
   "source": [
    "# Construct the Hermitian of matrix B\n",
    "\n",
    "B_h = np.zeros((N,N))\n",
    "for i in range (0,N):\n",
    "    B_h[:,i]=B[i,:]\n",
    "\n",
    "print(\"\\n\\t\\tHermition of B matrix\\n\\n\",B_h)"
   ]
  },
  {
   "cell_type": "code",
   "execution_count": 12,
   "id": "sapphire-settlement",
   "metadata": {},
   "outputs": [
    {
     "name": "stdout",
     "output_type": "stream",
     "text": [
      "\n",
      "Reconstruction of Image Matrix using the Basis Images (Method-1)\n",
      "\n",
      " [[207. 244. 107. 173.  70. 111. 180. 244.]\n",
      " [230. 246. 233. 193.  11.  97. 192.  86.]\n",
      " [ 32.  40. 202. 189.  24. 195.  70. 149.]\n",
      " [232. 247. 244. 100. 209. 202. 173.  57.]\n",
      " [161. 244. 167. 167. 177.  47. 167. 191.]\n",
      " [ 24. 123.   9.  43.  80. 124.  41.  65.]\n",
      " [ 71. 204. 216. 180. 242. 113.  30. 129.]\n",
      " [139.  36. 238.   8.   8. 164. 127. 178.]]\n"
     ]
    }
   ],
   "source": [
    "# Reconstruction of Image Matrix using the basis images\n",
    "\n",
    "rank = np.linalg.matrix_rank(g)\n",
    "sigma2=[]\n",
    "\n",
    "s2=0\n",
    "for k in range (0,rank):\n",
    "    inter3 = np.dot(A[:,k].reshape((8,1)),B[:,k].reshape((1,8)))\n",
    "    sig = 0\n",
    "    \n",
    "        \n",
    "#     print(f\"\\nbasis_image_matrix{k}\\n\",inter3)\n",
    "    \n",
    "    # Inner product technique used to find singular values\n",
    "    \n",
    "    for i in range (0,8):\n",
    "        for j in range (0,8):\n",
    "            t = g[i,j]*inter3[i,j]\n",
    "            sig = sig + t\n",
    "            \n",
    "    sigma2.append(sig)\n",
    "            \n",
    "    o2 = sig*inter3        \n",
    "    s2 = s2 + o2\n",
    "    \n",
    "print(\"\\nReconstruction of Image Matrix using the Basis Images (Method-1)\\n\\n\",s2)"
   ]
  },
  {
   "cell_type": "code",
   "execution_count": 13,
   "id": "fleet-seventh",
   "metadata": {},
   "outputs": [
    {
     "name": "stdout",
     "output_type": "stream",
     "text": [
      "[1169.3476431872264, -287.69452437540156, 257.49935299162377, 214.2844068745785, 163.17516562327347, 132.7294165700074, 32.15579375532702, -45.265863793417765]\n"
     ]
    }
   ],
   "source": [
    "# An array storing all the singular values\n",
    "\n",
    "print(sigma2)"
   ]
  },
  {
   "cell_type": "code",
   "execution_count": 14,
   "id": "violent-surge",
   "metadata": {},
   "outputs": [
    {
     "name": "stdout",
     "output_type": "stream",
     "text": [
      "\n",
      "\t\t\tSINGULAR VALUE MATRIX\n",
      "\n",
      " [[1169.348    0.       0.       0.       0.       0.       0.       0.   ]\n",
      " [   0.    -287.695    0.       0.       0.       0.       0.       0.   ]\n",
      " [   0.       0.     257.499    0.       0.       0.       0.       0.   ]\n",
      " [   0.       0.       0.     214.284    0.       0.       0.       0.   ]\n",
      " [   0.       0.       0.       0.     163.175    0.       0.       0.   ]\n",
      " [   0.       0.       0.       0.       0.     132.729    0.       0.   ]\n",
      " [   0.       0.       0.       0.       0.       0.      32.156    0.   ]\n",
      " [   0.       0.       0.       0.       0.       0.       0.     -45.266]]\n"
     ]
    }
   ],
   "source": [
    "# SINGULAR VALUE MATRIX\n",
    "\n",
    "SIGMA2 = np.zeros((8,8))\n",
    "for i in range (0,8):\n",
    "    for j in range (0,8):\n",
    "        if i==j:\n",
    "            SIGMA2[i,j]=sigma2[i]\n",
    "            \n",
    "print(\"\\n\\t\\t\\tSINGULAR VALUE MATRIX\\n\\n\",SIGMA2)"
   ]
  },
  {
   "cell_type": "code",
   "execution_count": 15,
   "id": "sexual-command",
   "metadata": {},
   "outputs": [
    {
     "name": "stdout",
     "output_type": "stream",
     "text": [
      "\n",
      "Reconstruction of Image Matrix (Method-2)\n",
      "\n",
      " [[207. 244. 107. 173.  70. 111. 180. 244.]\n",
      " [230. 246. 233. 193.  11.  97. 192.  86.]\n",
      " [ 32.  40. 202. 189.  24. 195.  70. 149.]\n",
      " [232. 247. 244. 100. 209. 202. 173.  57.]\n",
      " [161. 244. 167. 167. 177.  47. 167. 191.]\n",
      " [ 24. 123.   9.  43.  80. 124.  41.  65.]\n",
      " [ 71. 204. 216. 180. 242. 113.  30. 129.]\n",
      " [139.  36. 238.   8.   8. 164. 127. 178.]]\n"
     ]
    }
   ],
   "source": [
    "# Reconstruction of Image matrix using (Matrix A * Singular_value_matrix * matrix B Hermitian)\n",
    "\n",
    "S2 = np.dot(A,(np.dot(SIGMA2,B_h)))\n",
    "print(\"\\nReconstruction of Image Matrix (Method-2)\\n\\n\",S2)"
   ]
  },
  {
   "cell_type": "code",
   "execution_count": null,
   "id": "precious-prediction",
   "metadata": {},
   "outputs": [],
   "source": []
  },
  {
   "cell_type": "code",
   "execution_count": 16,
   "id": "normal-arrangement",
   "metadata": {},
   "outputs": [],
   "source": [
    "# Q(4)"
   ]
  },
  {
   "cell_type": "code",
   "execution_count": 17,
   "id": "organized-surge",
   "metadata": {},
   "outputs": [
    {
     "name": "stdout",
     "output_type": "stream",
     "text": [
      "r is the number of singular values we want to keep in.\n",
      "(maximum value of r is 8)\n",
      "Enter the value of r. :- 7\n"
     ]
    }
   ],
   "source": [
    "r=int(input(\"r is the number of singular values we want to keep in.\\n(maximum value of r is 8)\\nEnter the value of r. :- \"))"
   ]
  },
  {
   "cell_type": "code",
   "execution_count": 18,
   "id": "express-border",
   "metadata": {},
   "outputs": [
    {
     "name": "stdout",
     "output_type": "stream",
     "text": [
      "\n",
      "\tReconstruction of Image Matrix g_hat\n",
      "\n",
      " [[206.992 242.295 106.324 173.906  71.106 110.967 182.026 243.529]\n",
      " [229.964 237.86  229.772 197.327  16.281  96.842 201.67   83.752]\n",
      " [ 32.045  50.152 206.026 183.604  17.414 195.197  57.94  151.804]\n",
      " [232.039 255.897 247.528  95.271 203.228 202.173 162.431  59.457]\n",
      " [161.05  255.158 171.425 161.069 169.761  47.216 153.745 194.082]\n",
      " [ 23.969 115.959   6.208  46.742  84.568 123.863  49.364  63.055]\n",
      " [ 70.948 192.207 211.323 186.269 249.651 112.771  44.009 125.743]\n",
      " [138.969  29.118 235.271  11.658  12.465 163.866 135.175 176.099]]\n"
     ]
    }
   ],
   "source": [
    "# Reconstruction of Image Matrix g_hat using the basis images\n",
    "\n",
    "g_hat = 0\n",
    "for k in range (0,r):\n",
    "    inter4 = np.dot(A[:,k].reshape((8,1)),B[:,k].reshape((1,8)))\n",
    "    sig = 0\n",
    "    for i in range (0,8):\n",
    "        for j in range (0,8):\n",
    "            t = g[i,j]*inter4[i,j]\n",
    "            sig = sig + t\n",
    "    o4 = sig*inter4        \n",
    "    g_hat = g_hat + o4\n",
    "print(\"\\n\\tReconstruction of Image Matrix g_hat\\n\\n\",g_hat)"
   ]
  },
  {
   "cell_type": "code",
   "execution_count": 19,
   "id": "appreciated-apparatus",
   "metadata": {},
   "outputs": [
    {
     "name": "stdout",
     "output_type": "stream",
     "text": [
      "\n",
      "\t\tError matrix (Subtraction method(Method-1))\n",
      "\n",
      " [[  0.008   1.705   0.676  -0.906  -1.106   0.033  -2.026   0.471]\n",
      " [  0.036   8.14    3.228  -4.327  -5.281   0.158  -9.67    2.248]\n",
      " [ -0.045 -10.152  -4.026   5.396   6.586  -0.197  12.06   -2.804]\n",
      " [ -0.039  -8.897  -3.528   4.729   5.772  -0.173  10.569  -2.457]\n",
      " [ -0.05  -11.158  -4.425   5.931   7.239  -0.216  13.255  -3.082]\n",
      " [  0.031   7.041   2.792  -3.742  -4.568   0.137  -8.364   1.945]\n",
      " [  0.052  11.793   4.677  -6.269  -7.651   0.229 -14.009   3.257]\n",
      " [  0.031   6.882   2.729  -3.658  -4.465   0.134  -8.175   1.901]]\n"
     ]
    }
   ],
   "source": [
    "# Error matrix\n",
    "\n",
    "E = g - g_hat\n",
    "print(\"\\n\\t\\tError matrix (Subtraction method(Method-1))\\n\\n\",E)"
   ]
  },
  {
   "cell_type": "code",
   "execution_count": 20,
   "id": "scheduled-michigan",
   "metadata": {},
   "outputs": [
    {
     "name": "stdout",
     "output_type": "stream",
     "text": [
      "\n",
      "\t\tError matrix (Method-2)\n",
      "\n",
      " [[  0.008   1.705   0.676  -0.906  -1.106   0.033  -2.026   0.471]\n",
      " [  0.036   8.14    3.228  -4.327  -5.281   0.158  -9.67    2.248]\n",
      " [ -0.045 -10.152  -4.026   5.396   6.586  -0.197  12.06   -2.804]\n",
      " [ -0.039  -8.897  -3.528   4.729   5.772  -0.173  10.569  -2.457]\n",
      " [ -0.05  -11.158  -4.425   5.931   7.239  -0.216  13.255  -3.082]\n",
      " [  0.031   7.041   2.792  -3.742  -4.568   0.137  -8.364   1.945]\n",
      " [  0.052  11.793   4.677  -6.269  -7.651   0.229 -14.009   3.257]\n",
      " [  0.031   6.882   2.729  -3.658  -4.465   0.134  -8.175   1.901]]\n"
     ]
    }
   ],
   "source": [
    "# Error matrix\n",
    "\n",
    "E2 = 0\n",
    "for k in range (r,rank):\n",
    "    inter5 = np.dot(A[:,k].reshape((8,1)),B[:,k].reshape((1,8)))\n",
    "    sig = 0\n",
    "    for i in range (0,8):\n",
    "        for j in range (0,8):\n",
    "            t = g[i,j]*inter5[i,j]\n",
    "            sig = sig + t\n",
    "    o5 = sig*inter5        \n",
    "    E2 = E2 + o5\n",
    "print(\"\\n\\t\\tError matrix (Method-2)\\n\\n\",E2)"
   ]
  },
  {
   "cell_type": "code",
   "execution_count": 21,
   "id": "available-fleece",
   "metadata": {},
   "outputs": [
    {
     "name": "stdout",
     "output_type": "stream",
     "text": [
      "\n",
      "Square of norm of a matrix i.e || g - g_hat ||^2\n",
      " 2048.9984249642494\n"
     ]
    }
   ],
   "source": [
    "# Square of norm of a matrix i.e || g - g_hat ||^2\n",
    "\n",
    "su1 = 0\n",
    "for i in range (r,rank):\n",
    "    su1 = su1 + ((sigma2[i])**2)\n",
    "print(\"\\nSquare of norm of a matrix i.e || g - g_hat ||^2\\n\",su1)"
   ]
  },
  {
   "cell_type": "code",
   "execution_count": 22,
   "id": "chicken-afternoon",
   "metadata": {},
   "outputs": [
    {
     "name": "stdout",
     "output_type": "stream",
     "text": [
      "\n",
      "Sum of square of the first k singular values:\n",
      " 1607643.0015750367\n"
     ]
    }
   ],
   "source": [
    "su2 = 0\n",
    "for i in range (0,r):\n",
    "    su2 = su2 + ((sigma2[i])**2)\n",
    "print(\"\\nSum of square of the first k singular values:\\n\",su2)"
   ]
  },
  {
   "cell_type": "code",
   "execution_count": null,
   "id": "alpine-fourth",
   "metadata": {},
   "outputs": [],
   "source": []
  }
 ],
 "metadata": {
  "kernelspec": {
   "display_name": "Python 3",
   "language": "python",
   "name": "python3"
  },
  "language_info": {
   "codemirror_mode": {
    "name": "ipython",
    "version": 3
   },
   "file_extension": ".py",
   "mimetype": "text/x-python",
   "name": "python",
   "nbconvert_exporter": "python",
   "pygments_lexer": "ipython3",
   "version": "3.9.1"
  }
 },
 "nbformat": 4,
 "nbformat_minor": 5
}
