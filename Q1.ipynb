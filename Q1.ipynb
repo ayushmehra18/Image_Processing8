{
 "cells": [
  {
   "cell_type": "code",
   "execution_count": 1,
   "id": "heavy-climb",
   "metadata": {},
   "outputs": [],
   "source": [
    "# To import various libraries\n",
    "\n",
    "import math\n",
    "import numpy as np\n",
    "np.set_printoptions(precision=3, suppress=True)    # for compact output"
   ]
  },
  {
   "cell_type": "code",
   "execution_count": 2,
   "id": "lonely-singles",
   "metadata": {},
   "outputs": [
    {
     "name": "stdout",
     "output_type": "stream",
     "text": [
      "\n",
      "\t\tCovarianve Matrix R\n",
      "\n",
      " [[1.    0.91  0.828 0.754 0.686 0.624 0.568 0.517]\n",
      " [0.91  1.    0.91  0.828 0.754 0.686 0.624 0.568]\n",
      " [0.828 0.91  1.    0.91  0.828 0.754 0.686 0.624]\n",
      " [0.754 0.828 0.91  1.    0.91  0.828 0.754 0.686]\n",
      " [0.686 0.754 0.828 0.91  1.    0.91  0.828 0.754]\n",
      " [0.624 0.686 0.754 0.828 0.91  1.    0.91  0.828]\n",
      " [0.568 0.624 0.686 0.754 0.828 0.91  1.    0.91 ]\n",
      " [0.517 0.568 0.624 0.686 0.754 0.828 0.91  1.   ]]\n"
     ]
    }
   ],
   "source": [
    "# Construct the 8 X 8 covariance matrix R of a Markov-1 process.\n",
    "\n",
    "R = np.zeros((8,8))\n",
    "size,size = R.shape\n",
    "ro = 0.91\n",
    "for i in range (0,size):\n",
    "    t = 1\n",
    "    for j in range (0,size):\n",
    "        if (i==j):\n",
    "            R[i,j] = 1\n",
    "        if (i<j):\n",
    "            R[i,j] = ro**t\n",
    "            t = t+1\n",
    "            \n",
    "for i in range (0,size):\n",
    "    for j in range (0,size):\n",
    "        R[j,i] = R[i,j]\n",
    "        \n",
    "print(\"\\n\\t\\tCovarianve Matrix R\\n\\n\",R)"
   ]
  },
  {
   "cell_type": "code",
   "execution_count": 3,
   "id": "elder-academy",
   "metadata": {},
   "outputs": [
    {
     "name": "stdout",
     "output_type": "stream",
     "text": [
      "\n",
      "Matrix H1 is :\n",
      " [[ 0.707  0.707]\n",
      " [ 0.707 -0.707]]\n",
      "\n",
      "Kronecker product  of H1 and H1 is H2 :\n",
      " [[ 0.5  0.5  0.5  0.5]\n",
      " [ 0.5 -0.5  0.5 -0.5]\n",
      " [ 0.5  0.5 -0.5 -0.5]\n",
      " [ 0.5 -0.5 -0.5  0.5]]\n",
      "\n",
      "\tKronecker product  of H2 and H1 is H3 :\n",
      "\n",
      " [[ 0.354  0.354  0.354  0.354  0.354  0.354  0.354  0.354]\n",
      " [ 0.354 -0.354  0.354 -0.354  0.354 -0.354  0.354 -0.354]\n",
      " [ 0.354  0.354 -0.354 -0.354  0.354  0.354 -0.354 -0.354]\n",
      " [ 0.354 -0.354 -0.354  0.354  0.354 -0.354 -0.354  0.354]\n",
      " [ 0.354  0.354  0.354  0.354 -0.354 -0.354 -0.354 -0.354]\n",
      " [ 0.354 -0.354  0.354 -0.354 -0.354  0.354 -0.354  0.354]\n",
      " [ 0.354  0.354 -0.354 -0.354 -0.354 -0.354  0.354  0.354]\n",
      " [ 0.354 -0.354 -0.354  0.354 -0.354  0.354  0.354 -0.354]]\n"
     ]
    }
   ],
   "source": [
    "# Construct the Walsh-Haddamard Transform matrix.\n",
    "\n",
    "H=np.array([[1,1],[1,-1]])\n",
    "H1=(1/math.sqrt(2))*H\n",
    "print(\"\\nMatrix H1 is :\\n\",H1)\n",
    "\n",
    "H2 = np.kron(H1, H1)\n",
    "print(\"\\nKronecker product  of H1 and H1 is H2 :\\n\",H2)\n",
    "\n",
    "H3 = np.kron(H2, H1)\n",
    "print(\"\\n\\tKronecker product  of H2 and H1 is H3 :\\n\\n\",H3)"
   ]
  },
  {
   "cell_type": "code",
   "execution_count": 4,
   "id": "distinct-relationship",
   "metadata": {},
   "outputs": [
    {
     "name": "stdout",
     "output_type": "stream",
     "text": [
      "\n",
      "\t\tDCT type2 matrix is C\n",
      "\n",
      " [[ 0.354  0.354  0.354  0.354  0.354  0.354  0.354  0.354]\n",
      " [ 0.49   0.416  0.278  0.098 -0.098 -0.278 -0.416 -0.49 ]\n",
      " [ 0.462  0.191 -0.191 -0.462 -0.462 -0.191  0.191  0.462]\n",
      " [ 0.416 -0.098 -0.49  -0.278  0.278  0.49   0.098 -0.416]\n",
      " [ 0.354 -0.354 -0.354  0.354  0.354 -0.354 -0.354  0.354]\n",
      " [ 0.278 -0.49   0.098  0.416 -0.416 -0.098  0.49  -0.278]\n",
      " [ 0.191 -0.462  0.462 -0.191 -0.191  0.462 -0.462  0.191]\n",
      " [ 0.098 -0.278  0.416 -0.49   0.49  -0.416  0.278 -0.098]]\n"
     ]
    }
   ],
   "source": [
    "# Construct the DCT type-2 matrix.\n",
    "\n",
    "p=math.pi\n",
    "N = 8\n",
    "C = np.zeros((N,N))\n",
    "\n",
    "for k in range (0,N):\n",
    "    for n in range (0,N):\n",
    "        if k==0:\n",
    "            C[k,n] = math.sqrt(1/N)\n",
    "        else:\n",
    "            C[k,n] = (math.sqrt(2/N))*(math.cos((p*((2*n)+1)*k)/(2*N)))\n",
    "            \n",
    "print(\"\\n\\t\\tDCT type2 matrix is C\\n\\n\",C)"
   ]
  },
  {
   "cell_type": "code",
   "execution_count": 5,
   "id": "incredible-missouri",
   "metadata": {},
   "outputs": [
    {
     "name": "stdout",
     "output_type": "stream",
     "text": [
      "\n",
      "\t\tHermition of DCT type-2 matrix\n",
      "\n",
      " [[ 0.354  0.49   0.462  0.416  0.354  0.278  0.191  0.098]\n",
      " [ 0.354  0.416  0.191 -0.098 -0.354 -0.49  -0.462 -0.278]\n",
      " [ 0.354  0.278 -0.191 -0.49  -0.354  0.098  0.462  0.416]\n",
      " [ 0.354  0.098 -0.462 -0.278  0.354  0.416 -0.191 -0.49 ]\n",
      " [ 0.354 -0.098 -0.462  0.278  0.354 -0.416 -0.191  0.49 ]\n",
      " [ 0.354 -0.278 -0.191  0.49  -0.354 -0.098  0.462 -0.416]\n",
      " [ 0.354 -0.416  0.191  0.098 -0.354  0.49  -0.462  0.278]\n",
      " [ 0.354 -0.49   0.462 -0.416  0.354 -0.278  0.191 -0.098]]\n"
     ]
    }
   ],
   "source": [
    "# Construct the Hermitian of DCT type-2 matrix\n",
    "\n",
    "C_h = np.zeros((N,N))\n",
    "for i in range (0,N):\n",
    "    C_h[:,i]=C[i,:]\n",
    "\n",
    "print(\"\\n\\t\\tHermition of DCT type-2 matrix\\n\\n\",C_h)"
   ]
  },
  {
   "cell_type": "code",
   "execution_count": 6,
   "id": "sealed-tracy",
   "metadata": {},
   "outputs": [],
   "source": [
    "# Transform R using WHT and name the transform as `wht_R`\n",
    "# wht_R = H3*R*H3\n",
    "\n",
    "wht_R = np.dot(H3,(np.dot(R,H3)))"
   ]
  },
  {
   "cell_type": "code",
   "execution_count": 7,
   "id": "genetic-seeker",
   "metadata": {},
   "outputs": [],
   "source": [
    "# Transform R DCT and name the transform `dct_R`.\n",
    "# dct_R = C*R*C_h\n",
    "\n",
    "dct_R = np.dot(C,(np.dot(R,C_h)))"
   ]
  },
  {
   "cell_type": "code",
   "execution_count": 8,
   "id": "included-humor",
   "metadata": {},
   "outputs": [
    {
     "name": "stdout",
     "output_type": "stream",
     "text": [
      "M is the number of coefficients we want to keep in.\n",
      "(maximum value of M is 8)\n",
      "Enter the value of M. :- 5\n"
     ]
    }
   ],
   "source": [
    "# Enter the value of M. M should be less than 8\n",
    "\n",
    "M=int(input(\"M is the number of coefficients we want to keep in.\\n(maximum value of M is 8)\\nEnter the value of M. :- \")) "
   ]
  },
  {
   "cell_type": "code",
   "execution_count": 9,
   "id": "military-edmonton",
   "metadata": {},
   "outputs": [
    {
     "name": "stdout",
     "output_type": "stream",
     "text": [
      "Energy Packing Efficiency of Walsh-Haddamard Transform :  0.9424071362893965\n"
     ]
    }
   ],
   "source": [
    "# Energy Packing Efficiency of Walsh-Haddamard Transform\n",
    "\n",
    "s1 = 0\n",
    "for i in range (0,M):\n",
    "    s1 = s1 + wht_R[i,i]\n",
    "\n",
    "s2 = 0\n",
    "for j in range (0,N):\n",
    "    s2 = s2 + wht_R[j,j]\n",
    "\n",
    "epe_wht = s1/s2\n",
    "print(\"Energy Packing Efficiency of Walsh-Haddamard Transform : \", epe_wht)"
   ]
  },
  {
   "cell_type": "code",
   "execution_count": 10,
   "id": "primary-samuel",
   "metadata": {},
   "outputs": [
    {
     "name": "stdout",
     "output_type": "stream",
     "text": [
      "Decorrelation Efficiency of Walsh-Haddamard Transform :  0.9485667904674058\n"
     ]
    }
   ],
   "source": [
    "# Decorrelation Efficiency of Walsh-Haddamard Transform\n",
    "\n",
    "s3 = 0\n",
    "for i in range (0,N):\n",
    "    for j in range (0,N):\n",
    "        if i!=j:\n",
    "            s3 = s3 + abs(wht_R[i,j])\n",
    "\n",
    "s4 = 0\n",
    "for i in range (0,N):\n",
    "    for j in range (0,N):\n",
    "        if i!=j:\n",
    "            s4 = s4 + abs(R[i,j])\n",
    "\n",
    "de_wht = 1-(s3/s4)\n",
    "print(\"Decorrelation Efficiency of Walsh-Haddamard Transform : \", de_wht)"
   ]
  },
  {
   "cell_type": "code",
   "execution_count": 11,
   "id": "dental-ground",
   "metadata": {},
   "outputs": [
    {
     "name": "stdout",
     "output_type": "stream",
     "text": [
      "Energy Packing Efficiency of DCT :  0.9785067153152943\n"
     ]
    }
   ],
   "source": [
    "# Energy Packing Efficiency of DCT\n",
    "\n",
    "s11 = 0\n",
    "for i in range (0,M):\n",
    "    s11 = s11 + dct_R[i,i]\n",
    "\n",
    "s22 = 0\n",
    "for j in range (0,N):\n",
    "    s22 = s22 + dct_R[j,j]\n",
    "\n",
    "epe_dct = s11/s22\n",
    "print(\"Energy Packing Efficiency of DCT : \", epe_dct)"
   ]
  },
  {
   "cell_type": "code",
   "execution_count": 12,
   "id": "paperback-vulnerability",
   "metadata": {},
   "outputs": [
    {
     "name": "stdout",
     "output_type": "stream",
     "text": [
      "Decorrelation Efficiency of DCT :  0.9804711989227338\n"
     ]
    }
   ],
   "source": [
    "# Decorrelation Efficiency of DCT\n",
    "\n",
    "s33 = 0\n",
    "for i in range (0,N):\n",
    "    for j in range (0,N):\n",
    "        if i!=j:\n",
    "            s33 = s33 + abs(dct_R[i,j])\n",
    "\n",
    "s44 = 0\n",
    "for i in range (0,N):\n",
    "    for j in range (0,N):\n",
    "        if i!=j:\n",
    "            s44 = s44 + abs(R[i,j])\n",
    "\n",
    "de_dct = 1-(s33/s44)\n",
    "print(\"Decorrelation Efficiency of DCT : \", de_dct)"
   ]
  },
  {
   "cell_type": "code",
   "execution_count": 13,
   "id": "vietnamese-shadow",
   "metadata": {},
   "outputs": [
    {
     "name": "stdout",
     "output_type": "stream",
     "text": [
      "\n",
      "\t\t\tEigen-values\n",
      " [6.358 0.931 0.298 0.148 0.093 0.068 0.055 0.049]\n",
      "\n",
      "\t\t\tEigen-vectors\n",
      " [[-0.327 -0.473  0.469  0.428  0.366  0.288  0.198 -0.101]\n",
      " [-0.349 -0.424  0.218 -0.076 -0.341 -0.486 -0.463  0.279]\n",
      " [-0.365 -0.292 -0.169 -0.483 -0.358  0.091  0.459 -0.415]\n",
      " [-0.372 -0.104 -0.451 -0.279  0.349  0.415 -0.19   0.489]\n",
      " [-0.372  0.104 -0.451  0.279  0.349 -0.415 -0.19  -0.489]\n",
      " [-0.365  0.292 -0.169  0.483 -0.358 -0.091  0.459  0.415]\n",
      " [-0.349  0.424  0.218  0.076 -0.341  0.486 -0.463 -0.279]\n",
      " [-0.327  0.473  0.469 -0.428  0.366 -0.288  0.198  0.101]]\n"
     ]
    }
   ],
   "source": [
    "# finding eigenvalues and eigenvectors of R\n",
    "\n",
    "w, v = np.linalg.eig(R)\n",
    "print(\"\\n\\t\\t\\tEigen-values\\n\",w)\n",
    "print(\"\\n\\t\\t\\tEigen-vectors\\n\",v)"
   ]
  },
  {
   "cell_type": "code",
   "execution_count": 14,
   "id": "painted-sydney",
   "metadata": {},
   "outputs": [
    {
     "name": "stdout",
     "output_type": "stream",
     "text": [
      "\n",
      "\t\t\tEigen-vectors of R(Columns)\n",
      "\n",
      " [[-0.327 -0.473  0.469  0.428  0.366  0.288  0.198 -0.101]\n",
      " [-0.349 -0.424  0.218 -0.076 -0.341 -0.486 -0.463  0.279]\n",
      " [-0.365 -0.292 -0.169 -0.483 -0.358  0.091  0.459 -0.415]\n",
      " [-0.372 -0.104 -0.451 -0.279  0.349  0.415 -0.19   0.489]\n",
      " [-0.372  0.104 -0.451  0.279  0.349 -0.415 -0.19  -0.489]\n",
      " [-0.365  0.292 -0.169  0.483 -0.358 -0.091  0.459  0.415]\n",
      " [-0.349  0.424  0.218  0.076 -0.341  0.486 -0.463 -0.279]\n",
      " [-0.327  0.473  0.469 -0.428  0.366 -0.288  0.198  0.101]]\n"
     ]
    }
   ],
   "source": [
    "#  Each column is the Eigen vector of R\n",
    "print(\"\\n\\t\\t\\tEigen-vectors of R(Columns)\\n\\n\",v)"
   ]
  },
  {
   "cell_type": "code",
   "execution_count": 15,
   "id": "recent-promise",
   "metadata": {},
   "outputs": [
    {
     "name": "stdout",
     "output_type": "stream",
     "text": [
      "\n",
      "\t\t\tDCT-Basis(Columns)\n",
      "\n",
      " [[ 0.354  0.49   0.462  0.416  0.354  0.278  0.191  0.098]\n",
      " [ 0.354  0.416  0.191 -0.098 -0.354 -0.49  -0.462 -0.278]\n",
      " [ 0.354  0.278 -0.191 -0.49  -0.354  0.098  0.462  0.416]\n",
      " [ 0.354  0.098 -0.462 -0.278  0.354  0.416 -0.191 -0.49 ]\n",
      " [ 0.354 -0.098 -0.462  0.278  0.354 -0.416 -0.191  0.49 ]\n",
      " [ 0.354 -0.278 -0.191  0.49  -0.354 -0.098  0.462 -0.416]\n",
      " [ 0.354 -0.416  0.191  0.098 -0.354  0.49  -0.462  0.278]\n",
      " [ 0.354 -0.49   0.462 -0.416  0.354 -0.278  0.191 -0.098]]\n"
     ]
    }
   ],
   "source": [
    "#  Each column is the DCT-2 basis vector\n",
    "\n",
    "print(\"\\n\\t\\t\\tDCT-Basis(Columns)\\n\\n\",C_h)"
   ]
  },
  {
   "cell_type": "code",
   "execution_count": 16,
   "id": "accompanied-asbestos",
   "metadata": {},
   "outputs": [
    {
     "name": "stdout",
     "output_type": "stream",
     "text": [
      "\n",
      "\t\tError_diff\n",
      "\n",
      " [[0.027 0.017 0.007 0.012 0.012 0.01  0.007 0.004]\n",
      " [0.004 0.008 0.027 0.022 0.012 0.004 0.001 0.002]\n",
      " [0.011 0.015 0.022 0.007 0.004 0.006 0.003 0.   ]\n",
      " [0.019 0.007 0.011 0.001 0.004 0.001 0.002 0.001]\n",
      " [0.019 0.007 0.011 0.001 0.004 0.001 0.002 0.001]\n",
      " [0.011 0.015 0.022 0.007 0.004 0.006 0.003 0.   ]\n",
      " [0.004 0.008 0.027 0.022 0.012 0.004 0.001 0.002]\n",
      " [0.027 0.017 0.007 0.012 0.012 0.01  0.007 0.004]]\n"
     ]
    }
   ],
   "source": [
    "#  Difference between magnitude of Eigen-vectors of R(Columns) and magnitude of DCT-2 basis vector(Columns)\n",
    "\n",
    "Error_diff = abs(v)-abs(C_h)\n",
    "print(\"\\n\\t\\tError_diff\\n\\n\",abs(Error_diff))"
   ]
  }
 ],
 "metadata": {
  "kernelspec": {
   "display_name": "Python 3",
   "language": "python",
   "name": "python3"
  },
  "language_info": {
   "codemirror_mode": {
    "name": "ipython",
    "version": 3
   },
   "file_extension": ".py",
   "mimetype": "text/x-python",
   "name": "python",
   "nbconvert_exporter": "python",
   "pygments_lexer": "ipython3",
   "version": "3.9.1"
  }
 },
 "nbformat": 4,
 "nbformat_minor": 5
}
