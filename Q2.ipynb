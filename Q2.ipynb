{
 "cells": [
  {
   "cell_type": "code",
   "execution_count": 1,
   "id": "heavy-climb",
   "metadata": {},
   "outputs": [],
   "source": [
    "# To import various libraries\n",
    "\n",
    "import math\n",
    "import numpy as np\n",
    "np.set_printoptions(precision=3, suppress=True)    # for compact output"
   ]
  },
  {
   "cell_type": "code",
   "execution_count": 2,
   "id": "lonely-singles",
   "metadata": {},
   "outputs": [
    {
     "name": "stdout",
     "output_type": "stream",
     "text": [
      "\n",
      "\t\tCovarianve Matrix R\n",
      "\n",
      " [[1.    0.91  0.828 0.754 0.686 0.624 0.568 0.517]\n",
      " [0.91  1.    0.91  0.828 0.754 0.686 0.624 0.568]\n",
      " [0.828 0.91  1.    0.91  0.828 0.754 0.686 0.624]\n",
      " [0.754 0.828 0.91  1.    0.91  0.828 0.754 0.686]\n",
      " [0.686 0.754 0.828 0.91  1.    0.91  0.828 0.754]\n",
      " [0.624 0.686 0.754 0.828 0.91  1.    0.91  0.828]\n",
      " [0.568 0.624 0.686 0.754 0.828 0.91  1.    0.91 ]\n",
      " [0.517 0.568 0.624 0.686 0.754 0.828 0.91  1.   ]]\n"
     ]
    }
   ],
   "source": [
    "# Construct the 8 X 8 covariance matrix R of a Markov-1 process.\n",
    "\n",
    "R = np.zeros((8,8))\n",
    "size,size = R.shape\n",
    "ro = 0.91\n",
    "for i in range (0,size):\n",
    "    t = 1\n",
    "    for j in range (0,size):\n",
    "        if (i==j):\n",
    "            R[i,j] = 1\n",
    "        if (i<j):\n",
    "            R[i,j] = ro**t\n",
    "            t = t+1\n",
    "            \n",
    "for i in range (0,size):\n",
    "    for j in range (0,size):\n",
    "        R[j,i] = R[i,j]\n",
    "        \n",
    "print(\"\\n\\t\\tCovarianve Matrix R\\n\\n\",R)"
   ]
  },
  {
   "cell_type": "code",
   "execution_count": 3,
   "id": "sexual-sleeping",
   "metadata": {},
   "outputs": [
    {
     "name": "stdout",
     "output_type": "stream",
     "text": [
      "\n",
      "\t\t\tR_inverse\n",
      "\n",
      " [[ 5.817 -5.294 -0.    -0.     0.    -0.     0.    -0.   ]\n",
      " [-5.294 10.635 -5.294 -0.    -0.     0.    -0.     0.   ]\n",
      " [-0.    -5.294 10.635 -5.294 -0.     0.    -0.    -0.   ]\n",
      " [-0.    -0.    -5.294 10.635 -5.294  0.     0.     0.   ]\n",
      " [-0.     0.    -0.    -5.294 10.635 -5.294 -0.    -0.   ]\n",
      " [-0.     0.     0.    -0.    -5.294 10.635 -5.294 -0.   ]\n",
      " [ 0.    -0.    -0.     0.    -0.    -5.294 10.635 -5.294]\n",
      " [-0.     0.     0.    -0.     0.    -0.    -5.294  5.817]]\n"
     ]
    }
   ],
   "source": [
    "# Calculating the inverse of the matrix R\n",
    "\n",
    "R_inverse = np.linalg.inv(R)\n",
    "print(\"\\n\\t\\t\\tR_inverse\\n\\n\",R_inverse)"
   ]
  },
  {
   "cell_type": "code",
   "execution_count": 4,
   "id": "hispanic-signal",
   "metadata": {},
   "outputs": [
    {
     "name": "stdout",
     "output_type": "stream",
     "text": [
      "\n",
      "\t\tBETA_SQUARE * R_INVERSE\n",
      "\n",
      " [[ 0.547 -0.498 -0.    -0.     0.    -0.     0.    -0.   ]\n",
      " [-0.498  1.    -0.498 -0.    -0.     0.    -0.     0.   ]\n",
      " [-0.    -0.498  1.    -0.498 -0.     0.    -0.    -0.   ]\n",
      " [-0.    -0.    -0.498  1.    -0.498  0.     0.     0.   ]\n",
      " [-0.     0.    -0.    -0.498  1.    -0.498 -0.    -0.   ]\n",
      " [-0.     0.     0.    -0.    -0.498  1.    -0.498 -0.   ]\n",
      " [ 0.    -0.    -0.     0.    -0.    -0.498  1.    -0.498]\n",
      " [-0.     0.     0.    -0.     0.    -0.    -0.498  0.547]]\n"
     ]
    }
   ],
   "source": [
    "# Calculating matrix (BETA_SQUARE * R_INVERSE) i.e D\n",
    "\n",
    "\n",
    "beta_sq = (1-(ro**2))/(1+(ro**2))\n",
    "D = beta_sq*R_inverse\n",
    "print(\"\\n\\t\\tBETA_SQUARE * R_INVERSE\\n\\n\", D)"
   ]
  },
  {
   "cell_type": "code",
   "execution_count": 5,
   "id": "artistic-supplier",
   "metadata": {},
   "outputs": [
    {
     "name": "stdout",
     "output_type": "stream",
     "text": [
      "\n",
      "\t\t\tQ\n",
      "\n",
      " [[ 0.502 -0.498  0.     0.     0.     0.     0.     0.   ]\n",
      " [-0.498  1.    -0.498  0.     0.     0.     0.     0.   ]\n",
      " [ 0.    -0.498  1.    -0.498  0.     0.     0.     0.   ]\n",
      " [ 0.     0.    -0.498  1.    -0.498  0.     0.     0.   ]\n",
      " [ 0.     0.     0.    -0.498  1.    -0.498  0.     0.   ]\n",
      " [ 0.     0.     0.     0.    -0.498  1.    -0.498  0.   ]\n",
      " [ 0.     0.     0.     0.     0.    -0.498  1.    -0.498]\n",
      " [ 0.     0.     0.     0.     0.     0.    -0.498  0.502]]\n"
     ]
    }
   ],
   "source": [
    "# Tridiagonal Matrix Q\n",
    "\n",
    "alpha = ro/(1+(ro**2))\n",
    "Q = np.zeros((8,8))\n",
    "size,size = Q.shape\n",
    "for i in range (1,size-1):\n",
    "    t = 1\n",
    "    for j in range (1,size-1):\n",
    "        if (i==j):\n",
    "            Q[i,j] = 1\n",
    "            Q[i,j+1] = -alpha\n",
    "            Q[i,j-1] = -alpha\n",
    "        \n",
    "Q[0,0] = 1-alpha\n",
    "Q[0,1] = -alpha\n",
    "Q[size-1,size-1] = 1-alpha\n",
    "Q[size-1,size-2] = -alpha\n",
    "\n",
    "print(\"\\n\\t\\t\\tQ\\n\\n\",Q)"
   ]
  },
  {
   "cell_type": "code",
   "execution_count": null,
   "id": "chicken-brunei",
   "metadata": {},
   "outputs": [],
   "source": []
  },
  {
   "cell_type": "code",
   "execution_count": 6,
   "id": "distinct-relationship",
   "metadata": {},
   "outputs": [
    {
     "name": "stdout",
     "output_type": "stream",
     "text": [
      " \n",
      "\t\tDCT type-2 matrix is C\n",
      "\n",
      " [[ 0.354  0.354  0.354  0.354  0.354  0.354  0.354  0.354]\n",
      " [ 0.49   0.416  0.278  0.098 -0.098 -0.278 -0.416 -0.49 ]\n",
      " [ 0.462  0.191 -0.191 -0.462 -0.462 -0.191  0.191  0.462]\n",
      " [ 0.416 -0.098 -0.49  -0.278  0.278  0.49   0.098 -0.416]\n",
      " [ 0.354 -0.354 -0.354  0.354  0.354 -0.354 -0.354  0.354]\n",
      " [ 0.278 -0.49   0.098  0.416 -0.416 -0.098  0.49  -0.278]\n",
      " [ 0.191 -0.462  0.462 -0.191 -0.191  0.462 -0.462  0.191]\n",
      " [ 0.098 -0.278  0.416 -0.49   0.49  -0.416  0.278 -0.098]]\n"
     ]
    }
   ],
   "source": [
    "# Construct the DCT type-2 matrix.\n",
    "\n",
    "p=math.pi\n",
    "N = 8\n",
    "C = np.zeros((N,N))\n",
    "\n",
    "for k in range (0,N):\n",
    "    for n in range (0,N):\n",
    "        if k==0:\n",
    "            C[k,n] = math.sqrt(1/N)\n",
    "        else:\n",
    "            C[k,n] = (math.sqrt(2/N))*(math.cos((p*((2*n)+1)*k)/(2*N)))\n",
    "            \n",
    "print(\" \\n\\t\\tDCT type-2 matrix is C\\n\\n\",C)"
   ]
  },
  {
   "cell_type": "code",
   "execution_count": 7,
   "id": "incredible-missouri",
   "metadata": {},
   "outputs": [
    {
     "name": "stdout",
     "output_type": "stream",
     "text": [
      "\n",
      "\t\tHermition of DCT type-2 matrix\n",
      "\n",
      " [[ 0.354  0.49   0.462  0.416  0.354  0.278  0.191  0.098]\n",
      " [ 0.354  0.416  0.191 -0.098 -0.354 -0.49  -0.462 -0.278]\n",
      " [ 0.354  0.278 -0.191 -0.49  -0.354  0.098  0.462  0.416]\n",
      " [ 0.354  0.098 -0.462 -0.278  0.354  0.416 -0.191 -0.49 ]\n",
      " [ 0.354 -0.098 -0.462  0.278  0.354 -0.416 -0.191  0.49 ]\n",
      " [ 0.354 -0.278 -0.191  0.49  -0.354 -0.098  0.462 -0.416]\n",
      " [ 0.354 -0.416  0.191  0.098 -0.354  0.49  -0.462  0.278]\n",
      " [ 0.354 -0.49   0.462 -0.416  0.354 -0.278  0.191 -0.098]]\n"
     ]
    }
   ],
   "source": [
    "# Construct the Hermitian of DCT type-2 matrix\n",
    "\n",
    "C_h = np.zeros((N,N))\n",
    "for i in range (0,N):\n",
    "    C_h[:,i]=C[i,:]\n",
    "\n",
    "print(\"\\n\\t\\tHermition of DCT type-2 matrix\\n\\n\",C_h)"
   ]
  },
  {
   "cell_type": "code",
   "execution_count": null,
   "id": "handy-baker",
   "metadata": {},
   "outputs": [],
   "source": []
  },
  {
   "cell_type": "code",
   "execution_count": 8,
   "id": "sealed-tracy",
   "metadata": {},
   "outputs": [
    {
     "name": "stdout",
     "output_type": "stream",
     "text": [
      "\n",
      "\tDiagonal Matrix after DIAGONALIZING Q\n",
      "\n",
      " [[ 0.004 -0.    -0.    -0.     0.    -0.    -0.    -0.   ]\n",
      " [ 0.     0.08  -0.     0.    -0.    -0.     0.    -0.   ]\n",
      " [-0.    -0.     0.296  0.    -0.     0.    -0.     0.   ]\n",
      " [ 0.     0.     0.     0.619  0.    -0.     0.    -0.   ]\n",
      " [ 0.    -0.    -0.     0.     1.     0.    -0.    -0.   ]\n",
      " [-0.    -0.     0.    -0.     0.     1.381  0.     0.   ]\n",
      " [-0.     0.    -0.     0.    -0.     0.     1.704 -0.   ]\n",
      " [ 0.    -0.     0.    -0.    -0.     0.    -0.     1.92 ]]\n"
     ]
    }
   ],
   "source": [
    "# Diagonalizing Tridiagonal Matrix Q using the DCT matrix\n",
    "\n",
    "DQ = np.dot(C,(np.dot(Q,C_h)))\n",
    "print(\"\\n\\tDiagonal Matrix after DIAGONALIZING Q\\n\\n\",DQ)"
   ]
  },
  {
   "cell_type": "code",
   "execution_count": 9,
   "id": "happy-roads",
   "metadata": {},
   "outputs": [
    {
     "name": "stdout",
     "output_type": "stream",
     "text": [
      "\n",
      "Diagonal Matrix after DIAGONALIZING BETA_SQUARE*R_INVERSE i.e D:\n",
      "\n",
      " [[ 0.016  0.     0.015 -0.     0.011  0.     0.006  0.   ]\n",
      " [-0.     0.102 -0.     0.018 -0.     0.012  0.     0.004]\n",
      " [ 0.015 -0.     0.315  0.     0.015  0.     0.008  0.   ]\n",
      " [-0.     0.018 -0.     0.634  0.     0.01   0.     0.004]\n",
      " [ 0.011 -0.     0.015  0.     1.011  0.     0.006  0.   ]\n",
      " [ 0.     0.012  0.     0.01   0.     1.388  0.     0.002]\n",
      " [ 0.006  0.     0.008  0.     0.006  0.     1.707  0.   ]\n",
      " [-0.     0.004  0.     0.004  0.     0.002  0.     1.921]]\n"
     ]
    }
   ],
   "source": [
    "# Diagonalizing matrix (BETA_SQUARE * R_INVERSE) i.e D using the DCT matrix\n",
    "\n",
    "DD = np.dot(C,(np.dot(D,C_h)))\n",
    "print(\"\\nDiagonal Matrix after DIAGONALIZING BETA_SQUARE*R_INVERSE i.e D:\\n\\n\",DD)"
   ]
  }
 ],
 "metadata": {
  "kernelspec": {
   "display_name": "Python 3",
   "language": "python",
   "name": "python3"
  },
  "language_info": {
   "codemirror_mode": {
    "name": "ipython",
    "version": 3
   },
   "file_extension": ".py",
   "mimetype": "text/x-python",
   "name": "python",
   "nbconvert_exporter": "python",
   "pygments_lexer": "ipython3",
   "version": "3.9.1"
  }
 },
 "nbformat": 4,
 "nbformat_minor": 5
}
